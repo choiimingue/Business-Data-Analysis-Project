{
 "cells": [
  {
   "attachments": {},
   "cell_type": "markdown",
   "id": "48195b2a",
   "metadata": {},
   "source": [
    "## 라이브러리 import"
   ]
  },
  {
   "cell_type": "code",
   "execution_count": 1,
   "id": "de91aa26",
   "metadata": {},
   "outputs": [],
   "source": [
    "import time # 걸리는 시간 확인\n",
    "import pandas as pd # 데이터 분석\n",
    "import numpy as np # 수치 계산\n",
    "from glob import glob # 파일 경로 확인\n",
    "from dask import dataframe as dd # dask로 대용량 파일 로드\n",
    "from dask.diagnostics import ProgressBar # dask progress bar\n",
    "\n",
    "pbar = ProgressBar()\n",
    "pbar.register()"
   ]
  },
  {
   "attachments": {},
   "cell_type": "markdown",
   "id": "68b1e2db",
   "metadata": {},
   "source": [
    "## 파일 경로 변수"
   ]
  },
  {
   "cell_type": "code",
   "execution_count": 2,
   "id": "a7cb9e8b",
   "metadata": {},
   "outputs": [
    {
     "data": {
      "text/plain": [
       "['data/2019-Nov.csv', 'data/2019-Oct.csv']"
      ]
     },
     "execution_count": 2,
     "metadata": {},
     "output_type": "execute_result"
    }
   ],
   "source": [
    "file_name = glob('data/*.csv')\n",
    "file_name"
   ]
  },
  {
   "attachments": {},
   "cell_type": "markdown",
   "id": "e661f742",
   "metadata": {},
   "source": [
    "## 파일 로드(dask)"
   ]
  },
  {
   "attachments": {},
   "cell_type": "markdown",
   "id": "d48dc01c",
   "metadata": {},
   "source": [
    "### 2019-Oct.csv (6GB)"
   ]
  },
  {
   "cell_type": "code",
   "execution_count": 3,
   "id": "26f7f5b0",
   "metadata": {},
   "outputs": [
    {
     "name": "stdout",
     "output_type": "stream",
     "text": [
      "<class 'dask.dataframe.core.DataFrame'>\n",
      "Columns: 9 entries, event_time to user_session\n",
      "dtypes: category(3), object(2), float32(1), uint32(2), uint64(1)"
     ]
    }
   ],
   "source": [
    "# ddf : dask dataframe\n",
    "# dd.read_csv() : dask 로 csv 로드하기\n",
    "ddf = dd.read_csv(file_name[1], dtype={'event_type':'category', 'product_id':'uint32', 'category_id':'uint64', 'category_code':'category', 'brand':'category', 'price':'float32', 'user_id':'uint32'})\n",
    "ddf.info()"
   ]
  },
  {
   "cell_type": "code",
   "execution_count": 4,
   "id": "a7e6c5ce",
   "metadata": {},
   "outputs": [
    {
     "data": {
      "text/html": [
       "<div><strong>Dask DataFrame Structure:</strong></div>\n",
       "<div>\n",
       "<style scoped>\n",
       "    .dataframe tbody tr th:only-of-type {\n",
       "        vertical-align: middle;\n",
       "    }\n",
       "\n",
       "    .dataframe tbody tr th {\n",
       "        vertical-align: top;\n",
       "    }\n",
       "\n",
       "    .dataframe thead th {\n",
       "        text-align: right;\n",
       "    }\n",
       "</style>\n",
       "<table border=\"1\" class=\"dataframe\">\n",
       "  <thead>\n",
       "    <tr style=\"text-align: right;\">\n",
       "      <th></th>\n",
       "      <th>event_time</th>\n",
       "      <th>event_type</th>\n",
       "      <th>product_id</th>\n",
       "      <th>category_id</th>\n",
       "      <th>category_code</th>\n",
       "      <th>brand</th>\n",
       "      <th>price</th>\n",
       "      <th>user_id</th>\n",
       "      <th>user_session</th>\n",
       "    </tr>\n",
       "    <tr>\n",
       "      <th>npartitions=88</th>\n",
       "      <th></th>\n",
       "      <th></th>\n",
       "      <th></th>\n",
       "      <th></th>\n",
       "      <th></th>\n",
       "      <th></th>\n",
       "      <th></th>\n",
       "      <th></th>\n",
       "      <th></th>\n",
       "    </tr>\n",
       "  </thead>\n",
       "  <tbody>\n",
       "    <tr>\n",
       "      <th></th>\n",
       "      <td>object</td>\n",
       "      <td>category[unknown]</td>\n",
       "      <td>uint32</td>\n",
       "      <td>uint64</td>\n",
       "      <td>category[unknown]</td>\n",
       "      <td>category[unknown]</td>\n",
       "      <td>float32</td>\n",
       "      <td>uint32</td>\n",
       "      <td>object</td>\n",
       "    </tr>\n",
       "    <tr>\n",
       "      <th></th>\n",
       "      <td>...</td>\n",
       "      <td>...</td>\n",
       "      <td>...</td>\n",
       "      <td>...</td>\n",
       "      <td>...</td>\n",
       "      <td>...</td>\n",
       "      <td>...</td>\n",
       "      <td>...</td>\n",
       "      <td>...</td>\n",
       "    </tr>\n",
       "    <tr>\n",
       "      <th>...</th>\n",
       "      <td>...</td>\n",
       "      <td>...</td>\n",
       "      <td>...</td>\n",
       "      <td>...</td>\n",
       "      <td>...</td>\n",
       "      <td>...</td>\n",
       "      <td>...</td>\n",
       "      <td>...</td>\n",
       "      <td>...</td>\n",
       "    </tr>\n",
       "    <tr>\n",
       "      <th></th>\n",
       "      <td>...</td>\n",
       "      <td>...</td>\n",
       "      <td>...</td>\n",
       "      <td>...</td>\n",
       "      <td>...</td>\n",
       "      <td>...</td>\n",
       "      <td>...</td>\n",
       "      <td>...</td>\n",
       "      <td>...</td>\n",
       "    </tr>\n",
       "    <tr>\n",
       "      <th></th>\n",
       "      <td>...</td>\n",
       "      <td>...</td>\n",
       "      <td>...</td>\n",
       "      <td>...</td>\n",
       "      <td>...</td>\n",
       "      <td>...</td>\n",
       "      <td>...</td>\n",
       "      <td>...</td>\n",
       "      <td>...</td>\n",
       "    </tr>\n",
       "  </tbody>\n",
       "</table>\n",
       "</div>\n",
       "<div>Dask Name: read-csv, 1 graph layer</div>"
      ],
      "text/plain": [
       "Dask DataFrame Structure:\n",
       "               event_time         event_type product_id category_id      category_code              brand    price user_id user_session\n",
       "npartitions=88                                                                                                                         \n",
       "                   object  category[unknown]     uint32      uint64  category[unknown]  category[unknown]  float32  uint32       object\n",
       "                      ...                ...        ...         ...                ...                ...      ...     ...          ...\n",
       "...                   ...                ...        ...         ...                ...                ...      ...     ...          ...\n",
       "                      ...                ...        ...         ...                ...                ...      ...     ...          ...\n",
       "                      ...                ...        ...         ...                ...                ...      ...     ...          ...\n",
       "Dask Name: read-csv, 1 graph layer"
      ]
     },
     "execution_count": 4,
     "metadata": {},
     "output_type": "execute_result"
    }
   ],
   "source": [
    "# dask는 가상 데이터 프레임을 먼저 보여줌\n",
    "# 데이터 값이 보이지 않는 것은 아직 메모리 상에 올려놓지 않았기 때문\n",
    "ddf"
   ]
  },
  {
   "cell_type": "code",
   "execution_count": 5,
   "id": "81ab3d50",
   "metadata": {},
   "outputs": [
    {
     "name": "stdout",
     "output_type": "stream",
     "text": [
      "[########################################] | 100% Completed | 424.64 ms\n"
     ]
    },
    {
     "data": {
      "text/html": [
       "<div>\n",
       "<style scoped>\n",
       "    .dataframe tbody tr th:only-of-type {\n",
       "        vertical-align: middle;\n",
       "    }\n",
       "\n",
       "    .dataframe tbody tr th {\n",
       "        vertical-align: top;\n",
       "    }\n",
       "\n",
       "    .dataframe thead th {\n",
       "        text-align: right;\n",
       "    }\n",
       "</style>\n",
       "<table border=\"1\" class=\"dataframe\">\n",
       "  <thead>\n",
       "    <tr style=\"text-align: right;\">\n",
       "      <th></th>\n",
       "      <th>event_time</th>\n",
       "      <th>event_type</th>\n",
       "      <th>product_id</th>\n",
       "      <th>category_id</th>\n",
       "      <th>category_code</th>\n",
       "      <th>brand</th>\n",
       "      <th>price</th>\n",
       "      <th>user_id</th>\n",
       "      <th>user_session</th>\n",
       "    </tr>\n",
       "  </thead>\n",
       "  <tbody>\n",
       "    <tr>\n",
       "      <th>0</th>\n",
       "      <td>2019-10-01 00:00:00 UTC</td>\n",
       "      <td>view</td>\n",
       "      <td>44600062</td>\n",
       "      <td>2103807459595387724</td>\n",
       "      <td>NaN</td>\n",
       "      <td>shiseido</td>\n",
       "      <td>35.790001</td>\n",
       "      <td>541312140</td>\n",
       "      <td>72d76fde-8bb3-4e00-8c23-a032dfed738c</td>\n",
       "    </tr>\n",
       "    <tr>\n",
       "      <th>1</th>\n",
       "      <td>2019-10-01 00:00:00 UTC</td>\n",
       "      <td>view</td>\n",
       "      <td>3900821</td>\n",
       "      <td>2053013552326770905</td>\n",
       "      <td>appliances.environment.water_heater</td>\n",
       "      <td>aqua</td>\n",
       "      <td>33.200001</td>\n",
       "      <td>554748717</td>\n",
       "      <td>9333dfbd-b87a-4708-9857-6336556b0fcc</td>\n",
       "    </tr>\n",
       "    <tr>\n",
       "      <th>2</th>\n",
       "      <td>2019-10-01 00:00:01 UTC</td>\n",
       "      <td>view</td>\n",
       "      <td>17200506</td>\n",
       "      <td>2053013559792632471</td>\n",
       "      <td>furniture.living_room.sofa</td>\n",
       "      <td>NaN</td>\n",
       "      <td>543.099976</td>\n",
       "      <td>519107250</td>\n",
       "      <td>566511c2-e2e3-422b-b695-cf8e6e792ca8</td>\n",
       "    </tr>\n",
       "    <tr>\n",
       "      <th>3</th>\n",
       "      <td>2019-10-01 00:00:01 UTC</td>\n",
       "      <td>view</td>\n",
       "      <td>1307067</td>\n",
       "      <td>2053013558920217191</td>\n",
       "      <td>computers.notebook</td>\n",
       "      <td>lenovo</td>\n",
       "      <td>251.740005</td>\n",
       "      <td>550050854</td>\n",
       "      <td>7c90fc70-0e80-4590-96f3-13c02c18c713</td>\n",
       "    </tr>\n",
       "    <tr>\n",
       "      <th>4</th>\n",
       "      <td>2019-10-01 00:00:04 UTC</td>\n",
       "      <td>view</td>\n",
       "      <td>1004237</td>\n",
       "      <td>2053013555631882655</td>\n",
       "      <td>electronics.smartphone</td>\n",
       "      <td>apple</td>\n",
       "      <td>1081.979980</td>\n",
       "      <td>535871217</td>\n",
       "      <td>c6bd7419-2748-4c56-95b4-8cec9ff8b80d</td>\n",
       "    </tr>\n",
       "  </tbody>\n",
       "</table>\n",
       "</div>"
      ],
      "text/plain": [
       "                event_time event_type  product_id          category_id  \\\n",
       "0  2019-10-01 00:00:00 UTC       view    44600062  2103807459595387724   \n",
       "1  2019-10-01 00:00:00 UTC       view     3900821  2053013552326770905   \n",
       "2  2019-10-01 00:00:01 UTC       view    17200506  2053013559792632471   \n",
       "3  2019-10-01 00:00:01 UTC       view     1307067  2053013558920217191   \n",
       "4  2019-10-01 00:00:04 UTC       view     1004237  2053013555631882655   \n",
       "\n",
       "                         category_code     brand        price    user_id  \\\n",
       "0                                  NaN  shiseido    35.790001  541312140   \n",
       "1  appliances.environment.water_heater      aqua    33.200001  554748717   \n",
       "2           furniture.living_room.sofa       NaN   543.099976  519107250   \n",
       "3                   computers.notebook    lenovo   251.740005  550050854   \n",
       "4               electronics.smartphone     apple  1081.979980  535871217   \n",
       "\n",
       "                           user_session  \n",
       "0  72d76fde-8bb3-4e00-8c23-a032dfed738c  \n",
       "1  9333dfbd-b87a-4708-9857-6336556b0fcc  \n",
       "2  566511c2-e2e3-422b-b695-cf8e6e792ca8  \n",
       "3  7c90fc70-0e80-4590-96f3-13c02c18c713  \n",
       "4  c6bd7419-2748-4c56-95b4-8cec9ff8b80d  "
      ]
     },
     "execution_count": 5,
     "metadata": {},
     "output_type": "execute_result"
    }
   ],
   "source": [
    "# head를 해주면 출력해줌\n",
    "ddf.head()"
   ]
  },
  {
   "cell_type": "code",
   "execution_count": 6,
   "id": "c1f9d3eb",
   "metadata": {},
   "outputs": [
    {
     "data": {
      "text/plain": [
       "dd.Scalar<series-..., dtype=int64>"
      ]
     },
     "execution_count": 6,
     "metadata": {},
     "output_type": "execute_result"
    }
   ],
   "source": [
    "# pandas처럼 연산도 가능하지만 연산 함수만 적용하면 결과물은 출력되지 않음\n",
    "ddf['event_type'].nunique()"
   ]
  },
  {
   "cell_type": "code",
   "execution_count": 7,
   "id": "000b23b1",
   "metadata": {},
   "outputs": [
    {
     "name": "stdout",
     "output_type": "stream",
     "text": [
      "[########################################] | 100% Completed | 15.65 s\n"
     ]
    },
    {
     "data": {
      "text/plain": [
       "3"
      ]
     },
     "execution_count": 7,
     "metadata": {},
     "output_type": "execute_result"
    }
   ],
   "source": [
    "# compute()를 해주어야 결과물이 출력됨\n",
    "# 다만 연산결과물을 로드하기까지 시간이 다소 걸림\n",
    "ddf['event_type'].nunique().compute()"
   ]
  },
  {
   "attachments": {},
   "cell_type": "markdown",
   "id": "696e495c",
   "metadata": {},
   "source": [
    "## 중간 결론\n",
    "- DASK는 대용량 데이터를 노트북 상에 로드하는 시간에 이점이 있다.\n",
    "    - 병렬 컴퓨팅(?)과 같은 방식을 사용하기 때문인 듯\n",
    "- DASK는 데이터프레임의 연산 결과물의 출력에는 시간이 다소 오래 걸린다.\n",
    "- DASK로 우선 대용량 csv를 로드한 후, compute()를 통해 pandas 데이터프레임 형식으로 변환하여 EDA를 진행하는 것이 빠를 수도 있을 것 같다.\n",
    "- DASK로도 충분히 파생변수 생성이나 group연산이 가능하지만 pandas와 문법이 다른 부분이 익숙치 않기 때문에 로드 이후에는 pandas로 진행하는 것이 편할 듯\n",
    "\n",
    "참고 : https://devtimes.com/python-dask/"
   ]
  },
  {
   "cell_type": "code",
   "execution_count": 8,
   "id": "7ff9fca3",
   "metadata": {},
   "outputs": [
    {
     "name": "stdout",
     "output_type": "stream",
     "text": [
      "[########################################] | 100% Completed | 14.91 s\n",
      "걸린 시간 :  18.50674605369568 sec\n"
     ]
    }
   ],
   "source": [
    "# dask로 로드한 데이터프레임을 compute()를 통해 pandas 데이터프레임 형태로 변환하기\n",
    "# time을 활용한 이유는 dask progress bar의 속도와 실제 속도에 다소 차이가 있는 것 같아 비교하기 위함\n",
    "start = time.time()\n",
    "df = ddf.compute()\n",
    "df\n",
    "end = time.time()\n",
    "\n",
    "print('걸린 시간 : ', (end - start), 'sec')"
   ]
  },
  {
   "cell_type": "code",
   "execution_count": 9,
   "id": "18fd6dcb",
   "metadata": {},
   "outputs": [
    {
     "name": "stdout",
     "output_type": "stream",
     "text": [
      "<class 'pandas.core.frame.DataFrame'>\n",
      "Int64Index: 42448764 entries, 0 to 483207\n",
      "Data columns (total 9 columns):\n",
      " #   Column         Dtype   \n",
      "---  ------         -----   \n",
      " 0   event_time     object  \n",
      " 1   event_type     category\n",
      " 2   product_id     uint32  \n",
      " 3   category_id    uint64  \n",
      " 4   category_code  category\n",
      " 5   brand          category\n",
      " 6   price          float32 \n",
      " 7   user_id        uint32  \n",
      " 8   user_session   object  \n",
      "dtypes: category(3), float32(1), object(2), uint32(2), uint64(1)\n",
      "memory usage: 1.9+ GB\n"
     ]
    }
   ],
   "source": [
    "df.info()"
   ]
  },
  {
   "cell_type": "code",
   "execution_count": 10,
   "id": "234e0ede",
   "metadata": {},
   "outputs": [
    {
     "data": {
      "text/html": [
       "<div>\n",
       "<style scoped>\n",
       "    .dataframe tbody tr th:only-of-type {\n",
       "        vertical-align: middle;\n",
       "    }\n",
       "\n",
       "    .dataframe tbody tr th {\n",
       "        vertical-align: top;\n",
       "    }\n",
       "\n",
       "    .dataframe thead th {\n",
       "        text-align: right;\n",
       "    }\n",
       "</style>\n",
       "<table border=\"1\" class=\"dataframe\">\n",
       "  <thead>\n",
       "    <tr style=\"text-align: right;\">\n",
       "      <th></th>\n",
       "      <th>event_time</th>\n",
       "      <th>event_type</th>\n",
       "      <th>product_id</th>\n",
       "      <th>category_id</th>\n",
       "      <th>category_code</th>\n",
       "      <th>brand</th>\n",
       "      <th>price</th>\n",
       "      <th>user_id</th>\n",
       "      <th>user_session</th>\n",
       "    </tr>\n",
       "  </thead>\n",
       "  <tbody>\n",
       "    <tr>\n",
       "      <th>0</th>\n",
       "      <td>2019-10-01 00:00:00 UTC</td>\n",
       "      <td>view</td>\n",
       "      <td>44600062</td>\n",
       "      <td>2103807459595387724</td>\n",
       "      <td>NaN</td>\n",
       "      <td>shiseido</td>\n",
       "      <td>35.790001</td>\n",
       "      <td>541312140</td>\n",
       "      <td>72d76fde-8bb3-4e00-8c23-a032dfed738c</td>\n",
       "    </tr>\n",
       "    <tr>\n",
       "      <th>1</th>\n",
       "      <td>2019-10-01 00:00:00 UTC</td>\n",
       "      <td>view</td>\n",
       "      <td>3900821</td>\n",
       "      <td>2053013552326770905</td>\n",
       "      <td>appliances.environment.water_heater</td>\n",
       "      <td>aqua</td>\n",
       "      <td>33.200001</td>\n",
       "      <td>554748717</td>\n",
       "      <td>9333dfbd-b87a-4708-9857-6336556b0fcc</td>\n",
       "    </tr>\n",
       "  </tbody>\n",
       "</table>\n",
       "</div>"
      ],
      "text/plain": [
       "                event_time event_type  product_id          category_id  \\\n",
       "0  2019-10-01 00:00:00 UTC       view    44600062  2103807459595387724   \n",
       "1  2019-10-01 00:00:00 UTC       view     3900821  2053013552326770905   \n",
       "\n",
       "                         category_code     brand      price    user_id  \\\n",
       "0                                  NaN  shiseido  35.790001  541312140   \n",
       "1  appliances.environment.water_heater      aqua  33.200001  554748717   \n",
       "\n",
       "                           user_session  \n",
       "0  72d76fde-8bb3-4e00-8c23-a032dfed738c  \n",
       "1  9333dfbd-b87a-4708-9857-6336556b0fcc  "
      ]
     },
     "execution_count": 10,
     "metadata": {},
     "output_type": "execute_result"
    }
   ],
   "source": [
    "df.head(2)"
   ]
  },
  {
   "cell_type": "code",
   "execution_count": 11,
   "id": "7882a3c7",
   "metadata": {},
   "outputs": [
    {
     "data": {
      "text/plain": [
       "3"
      ]
     },
     "execution_count": 11,
     "metadata": {},
     "output_type": "execute_result"
    }
   ],
   "source": [
    "# dask 데이터프레임에서 진행한 함수를 실행한 결과 pandas가 훨씬 빠름\n",
    "df['event_type'].nunique()"
   ]
  },
  {
   "attachments": {},
   "cell_type": "markdown",
   "id": "5fa105f8",
   "metadata": {},
   "source": [
    "### 2019-Nov.csv (9GB)"
   ]
  },
  {
   "cell_type": "code",
   "execution_count": 12,
   "id": "522c7f19",
   "metadata": {},
   "outputs": [
    {
     "name": "stdout",
     "output_type": "stream",
     "text": [
      "<class 'dask.dataframe.core.DataFrame'>\n",
      "Columns: 9 entries, event_time to user_session\n",
      "dtypes: category(3), object(2), float32(1), uint32(2), uint64(1)"
     ]
    }
   ],
   "source": [
    "ddf2 = dd.read_csv(file_name[0], dtype={'event_type':'category', 'product_id':'uint32', 'category_id':'uint64', 'category_code':'category', 'brand':'category', 'price':'float32', 'user_id':'uint32'})\n",
    "ddf2.info()"
   ]
  },
  {
   "cell_type": "code",
   "execution_count": 13,
   "id": "b8af547a",
   "metadata": {},
   "outputs": [
    {
     "name": "stdout",
     "output_type": "stream",
     "text": [
      "[########################################] | 100% Completed | 23.66 s\n",
      "걸린 시간 :  31.628165245056152 sec\n"
     ]
    }
   ],
   "source": [
    "start = time.time()\n",
    "df2 = ddf2.compute()\n",
    "df2\n",
    "end = time.time()\n",
    "\n",
    "print('걸린 시간 : ', (end - start), 'sec')"
   ]
  },
  {
   "cell_type": "code",
   "execution_count": 14,
   "id": "0ec57a34",
   "metadata": {},
   "outputs": [
    {
     "name": "stdout",
     "output_type": "stream",
     "text": [
      "<class 'pandas.core.frame.DataFrame'>\n",
      "Int64Index: 67501979 entries, 0 to 482472\n",
      "Data columns (total 9 columns):\n",
      " #   Column         Dtype   \n",
      "---  ------         -----   \n",
      " 0   event_time     object  \n",
      " 1   event_type     category\n",
      " 2   product_id     uint32  \n",
      " 3   category_id    uint64  \n",
      " 4   category_code  category\n",
      " 5   brand          category\n",
      " 6   price          float32 \n",
      " 7   user_id        uint32  \n",
      " 8   user_session   object  \n",
      "dtypes: category(3), float32(1), object(2), uint32(2), uint64(1)\n",
      "memory usage: 3.1+ GB\n"
     ]
    }
   ],
   "source": [
    "df2.info()"
   ]
  },
  {
   "cell_type": "code",
   "execution_count": 15,
   "id": "74a73bff",
   "metadata": {},
   "outputs": [
    {
     "data": {
      "text/html": [
       "<div>\n",
       "<style scoped>\n",
       "    .dataframe tbody tr th:only-of-type {\n",
       "        vertical-align: middle;\n",
       "    }\n",
       "\n",
       "    .dataframe tbody tr th {\n",
       "        vertical-align: top;\n",
       "    }\n",
       "\n",
       "    .dataframe thead th {\n",
       "        text-align: right;\n",
       "    }\n",
       "</style>\n",
       "<table border=\"1\" class=\"dataframe\">\n",
       "  <thead>\n",
       "    <tr style=\"text-align: right;\">\n",
       "      <th></th>\n",
       "      <th>event_time</th>\n",
       "      <th>event_type</th>\n",
       "      <th>product_id</th>\n",
       "      <th>category_id</th>\n",
       "      <th>category_code</th>\n",
       "      <th>brand</th>\n",
       "      <th>price</th>\n",
       "      <th>user_id</th>\n",
       "      <th>user_session</th>\n",
       "    </tr>\n",
       "  </thead>\n",
       "  <tbody>\n",
       "    <tr>\n",
       "      <th>0</th>\n",
       "      <td>2019-11-01 00:00:00 UTC</td>\n",
       "      <td>view</td>\n",
       "      <td>1003461</td>\n",
       "      <td>2053013555631882655</td>\n",
       "      <td>electronics.smartphone</td>\n",
       "      <td>xiaomi</td>\n",
       "      <td>489.070007</td>\n",
       "      <td>520088904</td>\n",
       "      <td>4d3b30da-a5e4-49df-b1a8-ba5943f1dd33</td>\n",
       "    </tr>\n",
       "    <tr>\n",
       "      <th>1</th>\n",
       "      <td>2019-11-01 00:00:00 UTC</td>\n",
       "      <td>view</td>\n",
       "      <td>5000088</td>\n",
       "      <td>2053013566100866035</td>\n",
       "      <td>appliances.sewing_machine</td>\n",
       "      <td>janome</td>\n",
       "      <td>293.649994</td>\n",
       "      <td>530496790</td>\n",
       "      <td>8e5f4f83-366c-4f70-860e-ca7417414283</td>\n",
       "    </tr>\n",
       "  </tbody>\n",
       "</table>\n",
       "</div>"
      ],
      "text/plain": [
       "                event_time event_type  product_id          category_id  \\\n",
       "0  2019-11-01 00:00:00 UTC       view     1003461  2053013555631882655   \n",
       "1  2019-11-01 00:00:00 UTC       view     5000088  2053013566100866035   \n",
       "\n",
       "               category_code   brand       price    user_id  \\\n",
       "0     electronics.smartphone  xiaomi  489.070007  520088904   \n",
       "1  appliances.sewing_machine  janome  293.649994  530496790   \n",
       "\n",
       "                           user_session  \n",
       "0  4d3b30da-a5e4-49df-b1a8-ba5943f1dd33  \n",
       "1  8e5f4f83-366c-4f70-860e-ca7417414283  "
      ]
     },
     "execution_count": 15,
     "metadata": {},
     "output_type": "execute_result"
    }
   ],
   "source": [
    "df2.head(2)"
   ]
  },
  {
   "attachments": {},
   "cell_type": "markdown",
   "id": "588937ff",
   "metadata": {},
   "source": [
    "## 전체 데이터프레임 확인(pandas)"
   ]
  },
  {
   "cell_type": "code",
   "execution_count": 16,
   "id": "cfa85988",
   "metadata": {},
   "outputs": [
    {
     "data": {
      "text/plain": [
       "((42448764, 9), (67501979, 9))"
      ]
     },
     "execution_count": 16,
     "metadata": {},
     "output_type": "execute_result"
    }
   ],
   "source": [
    "# df : 2019-Oct.csv\n",
    "# df2 : 2019-Nov.csv\n",
    "df.shape, df2.shape"
   ]
  },
  {
   "cell_type": "code",
   "execution_count": 17,
   "id": "e83934fb",
   "metadata": {},
   "outputs": [
    {
     "name": "stdout",
     "output_type": "stream",
     "text": [
      "<class 'pandas.core.frame.DataFrame'>\n",
      "Int64Index: 42448764 entries, 0 to 483207\n",
      "Data columns (total 9 columns):\n",
      " #   Column         Non-Null Count     Dtype   \n",
      "---  ------         --------------     -----   \n",
      " 0   event_time     42448764 non-null  object  \n",
      " 1   event_type     42448764 non-null  category\n",
      " 2   product_id     42448764 non-null  uint32  \n",
      " 3   category_id    42448764 non-null  uint64  \n",
      " 4   category_code  28933155 non-null  category\n",
      " 5   brand          36331684 non-null  category\n",
      " 6   price          42448764 non-null  float32 \n",
      " 7   user_id        42448764 non-null  uint32  \n",
      " 8   user_session   42448762 non-null  object  \n",
      "dtypes: category(3), float32(1), object(2), uint32(2), uint64(1)\n",
      "memory usage: 1.9+ GB\n"
     ]
    }
   ],
   "source": [
    "df.info(show_counts=True)"
   ]
  },
  {
   "cell_type": "code",
   "execution_count": 18,
   "id": "41af346d",
   "metadata": {},
   "outputs": [
    {
     "name": "stdout",
     "output_type": "stream",
     "text": [
      "<class 'pandas.core.frame.DataFrame'>\n",
      "Int64Index: 67501979 entries, 0 to 482472\n",
      "Data columns (total 9 columns):\n",
      " #   Column         Non-Null Count     Dtype   \n",
      "---  ------         --------------     -----   \n",
      " 0   event_time     67501979 non-null  object  \n",
      " 1   event_type     67501979 non-null  category\n",
      " 2   product_id     67501979 non-null  uint32  \n",
      " 3   category_id    67501979 non-null  uint64  \n",
      " 4   category_code  45603808 non-null  category\n",
      " 5   brand          58277901 non-null  category\n",
      " 6   price          67501979 non-null  float32 \n",
      " 7   user_id        67501979 non-null  uint32  \n",
      " 8   user_session   67501969 non-null  object  \n",
      "dtypes: category(3), float32(1), object(2), uint32(2), uint64(1)\n",
      "memory usage: 3.1+ GB\n"
     ]
    }
   ],
   "source": [
    "df2.info(show_counts=True)"
   ]
  },
  {
   "cell_type": "code",
   "execution_count": 19,
   "id": "b3246067",
   "metadata": {},
   "outputs": [
    {
     "data": {
      "text/html": [
       "<div>\n",
       "<style scoped>\n",
       "    .dataframe tbody tr th:only-of-type {\n",
       "        vertical-align: middle;\n",
       "    }\n",
       "\n",
       "    .dataframe tbody tr th {\n",
       "        vertical-align: top;\n",
       "    }\n",
       "\n",
       "    .dataframe thead th {\n",
       "        text-align: right;\n",
       "    }\n",
       "</style>\n",
       "<table border=\"1\" class=\"dataframe\">\n",
       "  <thead>\n",
       "    <tr style=\"text-align: right;\">\n",
       "      <th></th>\n",
       "      <th>product_id</th>\n",
       "      <th>category_id</th>\n",
       "      <th>price</th>\n",
       "      <th>user_id</th>\n",
       "    </tr>\n",
       "  </thead>\n",
       "  <tbody>\n",
       "    <tr>\n",
       "      <th>count</th>\n",
       "      <td>4.244876e+07</td>\n",
       "      <td>4.244876e+07</td>\n",
       "      <td>4.244876e+07</td>\n",
       "      <td>4.244876e+07</td>\n",
       "    </tr>\n",
       "    <tr>\n",
       "      <th>mean</th>\n",
       "      <td>1.054993e+07</td>\n",
       "      <td>2.057404e+18</td>\n",
       "      <td>2.903238e+02</td>\n",
       "      <td>5.335371e+08</td>\n",
       "    </tr>\n",
       "    <tr>\n",
       "      <th>std</th>\n",
       "      <td>1.188191e+07</td>\n",
       "      <td>1.843926e+16</td>\n",
       "      <td>3.363253e+02</td>\n",
       "      <td>1.852374e+07</td>\n",
       "    </tr>\n",
       "    <tr>\n",
       "      <th>min</th>\n",
       "      <td>1.000978e+06</td>\n",
       "      <td>2.053014e+18</td>\n",
       "      <td>0.000000e+00</td>\n",
       "      <td>3.386938e+07</td>\n",
       "    </tr>\n",
       "    <tr>\n",
       "      <th>25%</th>\n",
       "      <td>1.005157e+06</td>\n",
       "      <td>2.053014e+18</td>\n",
       "      <td>6.598000e+01</td>\n",
       "      <td>5.159043e+08</td>\n",
       "    </tr>\n",
       "    <tr>\n",
       "      <th>50%</th>\n",
       "      <td>5.000470e+06</td>\n",
       "      <td>2.053014e+18</td>\n",
       "      <td>1.629300e+02</td>\n",
       "      <td>5.296965e+08</td>\n",
       "    </tr>\n",
       "    <tr>\n",
       "      <th>75%</th>\n",
       "      <td>1.600030e+07</td>\n",
       "      <td>2.053014e+18</td>\n",
       "      <td>3.585700e+02</td>\n",
       "      <td>5.515788e+08</td>\n",
       "    </tr>\n",
       "    <tr>\n",
       "      <th>max</th>\n",
       "      <td>6.050001e+07</td>\n",
       "      <td>2.175420e+18</td>\n",
       "      <td>2.574070e+03</td>\n",
       "      <td>5.662809e+08</td>\n",
       "    </tr>\n",
       "  </tbody>\n",
       "</table>\n",
       "</div>"
      ],
      "text/plain": [
       "         product_id   category_id         price       user_id\n",
       "count  4.244876e+07  4.244876e+07  4.244876e+07  4.244876e+07\n",
       "mean   1.054993e+07  2.057404e+18  2.903238e+02  5.335371e+08\n",
       "std    1.188191e+07  1.843926e+16  3.363253e+02  1.852374e+07\n",
       "min    1.000978e+06  2.053014e+18  0.000000e+00  3.386938e+07\n",
       "25%    1.005157e+06  2.053014e+18  6.598000e+01  5.159043e+08\n",
       "50%    5.000470e+06  2.053014e+18  1.629300e+02  5.296965e+08\n",
       "75%    1.600030e+07  2.053014e+18  3.585700e+02  5.515788e+08\n",
       "max    6.050001e+07  2.175420e+18  2.574070e+03  5.662809e+08"
      ]
     },
     "metadata": {},
     "output_type": "display_data"
    },
    {
     "data": {
      "text/html": [
       "<div>\n",
       "<style scoped>\n",
       "    .dataframe tbody tr th:only-of-type {\n",
       "        vertical-align: middle;\n",
       "    }\n",
       "\n",
       "    .dataframe tbody tr th {\n",
       "        vertical-align: top;\n",
       "    }\n",
       "\n",
       "    .dataframe thead th {\n",
       "        text-align: right;\n",
       "    }\n",
       "</style>\n",
       "<table border=\"1\" class=\"dataframe\">\n",
       "  <thead>\n",
       "    <tr style=\"text-align: right;\">\n",
       "      <th></th>\n",
       "      <th>product_id</th>\n",
       "      <th>category_id</th>\n",
       "      <th>price</th>\n",
       "      <th>user_id</th>\n",
       "    </tr>\n",
       "  </thead>\n",
       "  <tbody>\n",
       "    <tr>\n",
       "      <th>count</th>\n",
       "      <td>6.750198e+07</td>\n",
       "      <td>6.750198e+07</td>\n",
       "      <td>6.750198e+07</td>\n",
       "      <td>6.750198e+07</td>\n",
       "    </tr>\n",
       "    <tr>\n",
       "      <th>mean</th>\n",
       "      <td>1.251406e+07</td>\n",
       "      <td>2.057898e+18</td>\n",
       "      <td>2.924591e+02</td>\n",
       "      <td>5.386397e+08</td>\n",
       "    </tr>\n",
       "    <tr>\n",
       "      <th>std</th>\n",
       "      <td>1.725741e+07</td>\n",
       "      <td>2.012549e+16</td>\n",
       "      <td>3.373027e+02</td>\n",
       "      <td>2.288516e+07</td>\n",
       "    </tr>\n",
       "    <tr>\n",
       "      <th>min</th>\n",
       "      <td>1.000365e+06</td>\n",
       "      <td>2.053014e+18</td>\n",
       "      <td>0.000000e+00</td>\n",
       "      <td>1.030022e+07</td>\n",
       "    </tr>\n",
       "    <tr>\n",
       "      <th>25%</th>\n",
       "      <td>1.305977e+06</td>\n",
       "      <td>2.053014e+18</td>\n",
       "      <td>6.924000e+01</td>\n",
       "      <td>5.164762e+08</td>\n",
       "    </tr>\n",
       "    <tr>\n",
       "      <th>50%</th>\n",
       "      <td>5.100568e+06</td>\n",
       "      <td>2.053014e+18</td>\n",
       "      <td>1.657700e+02</td>\n",
       "      <td>5.350573e+08</td>\n",
       "    </tr>\n",
       "    <tr>\n",
       "      <th>75%</th>\n",
       "      <td>1.730075e+07</td>\n",
       "      <td>2.053014e+18</td>\n",
       "      <td>3.603400e+02</td>\n",
       "      <td>5.610794e+08</td>\n",
       "    </tr>\n",
       "    <tr>\n",
       "      <th>max</th>\n",
       "      <td>1.000286e+08</td>\n",
       "      <td>2.187708e+18</td>\n",
       "      <td>2.574070e+03</td>\n",
       "      <td>5.799699e+08</td>\n",
       "    </tr>\n",
       "  </tbody>\n",
       "</table>\n",
       "</div>"
      ],
      "text/plain": [
       "         product_id   category_id         price       user_id\n",
       "count  6.750198e+07  6.750198e+07  6.750198e+07  6.750198e+07\n",
       "mean   1.251406e+07  2.057898e+18  2.924591e+02  5.386397e+08\n",
       "std    1.725741e+07  2.012549e+16  3.373027e+02  2.288516e+07\n",
       "min    1.000365e+06  2.053014e+18  0.000000e+00  1.030022e+07\n",
       "25%    1.305977e+06  2.053014e+18  6.924000e+01  5.164762e+08\n",
       "50%    5.100568e+06  2.053014e+18  1.657700e+02  5.350573e+08\n",
       "75%    1.730075e+07  2.053014e+18  3.603400e+02  5.610794e+08\n",
       "max    1.000286e+08  2.187708e+18  2.574070e+03  5.799699e+08"
      ]
     },
     "metadata": {},
     "output_type": "display_data"
    }
   ],
   "source": [
    "display(df.describe(), df2.describe())"
   ]
  },
  {
   "cell_type": "code",
   "execution_count": 20,
   "id": "c0ab7c3a",
   "metadata": {},
   "outputs": [
    {
     "data": {
      "text/html": [
       "<div>\n",
       "<style scoped>\n",
       "    .dataframe tbody tr th:only-of-type {\n",
       "        vertical-align: middle;\n",
       "    }\n",
       "\n",
       "    .dataframe tbody tr th {\n",
       "        vertical-align: top;\n",
       "    }\n",
       "\n",
       "    .dataframe thead th {\n",
       "        text-align: right;\n",
       "    }\n",
       "</style>\n",
       "<table border=\"1\" class=\"dataframe\">\n",
       "  <thead>\n",
       "    <tr style=\"text-align: right;\">\n",
       "      <th></th>\n",
       "      <th>event_time</th>\n",
       "      <th>user_session</th>\n",
       "    </tr>\n",
       "  </thead>\n",
       "  <tbody>\n",
       "    <tr>\n",
       "      <th>count</th>\n",
       "      <td>42448764</td>\n",
       "      <td>42448762</td>\n",
       "    </tr>\n",
       "    <tr>\n",
       "      <th>unique</th>\n",
       "      <td>2621538</td>\n",
       "      <td>9244421</td>\n",
       "    </tr>\n",
       "    <tr>\n",
       "      <th>top</th>\n",
       "      <td>2019-10-15 08:52:00 UTC</td>\n",
       "      <td>fb075266-182d-4c11-b5f7-4e4dcdabd4a7</td>\n",
       "    </tr>\n",
       "    <tr>\n",
       "      <th>freq</th>\n",
       "      <td>116</td>\n",
       "      <td>1159</td>\n",
       "    </tr>\n",
       "  </tbody>\n",
       "</table>\n",
       "</div>"
      ],
      "text/plain": [
       "                     event_time                          user_session\n",
       "count                  42448764                              42448762\n",
       "unique                  2621538                               9244421\n",
       "top     2019-10-15 08:52:00 UTC  fb075266-182d-4c11-b5f7-4e4dcdabd4a7\n",
       "freq                        116                                  1159"
      ]
     },
     "metadata": {},
     "output_type": "display_data"
    },
    {
     "data": {
      "text/html": [
       "<div>\n",
       "<style scoped>\n",
       "    .dataframe tbody tr th:only-of-type {\n",
       "        vertical-align: middle;\n",
       "    }\n",
       "\n",
       "    .dataframe tbody tr th {\n",
       "        vertical-align: top;\n",
       "    }\n",
       "\n",
       "    .dataframe thead th {\n",
       "        text-align: right;\n",
       "    }\n",
       "</style>\n",
       "<table border=\"1\" class=\"dataframe\">\n",
       "  <thead>\n",
       "    <tr style=\"text-align: right;\">\n",
       "      <th></th>\n",
       "      <th>event_time</th>\n",
       "      <th>user_session</th>\n",
       "    </tr>\n",
       "  </thead>\n",
       "  <tbody>\n",
       "    <tr>\n",
       "      <th>count</th>\n",
       "      <td>67501979</td>\n",
       "      <td>67501969</td>\n",
       "    </tr>\n",
       "    <tr>\n",
       "      <th>unique</th>\n",
       "      <td>2549559</td>\n",
       "      <td>13776050</td>\n",
       "    </tr>\n",
       "    <tr>\n",
       "      <th>top</th>\n",
       "      <td>2019-11-15 02:51:51 UTC</td>\n",
       "      <td>d99d91bf-40f8-4e29-9593-54b4a1826542</td>\n",
       "    </tr>\n",
       "    <tr>\n",
       "      <th>freq</th>\n",
       "      <td>243</td>\n",
       "      <td>4128</td>\n",
       "    </tr>\n",
       "  </tbody>\n",
       "</table>\n",
       "</div>"
      ],
      "text/plain": [
       "                     event_time                          user_session\n",
       "count                  67501979                              67501969\n",
       "unique                  2549559                              13776050\n",
       "top     2019-11-15 02:51:51 UTC  d99d91bf-40f8-4e29-9593-54b4a1826542\n",
       "freq                        243                                  4128"
      ]
     },
     "metadata": {},
     "output_type": "display_data"
    }
   ],
   "source": [
    "display(df.describe(include='O'), df2.describe(include='O'))"
   ]
  },
  {
   "attachments": {},
   "cell_type": "markdown",
   "id": "bba1e012",
   "metadata": {},
   "source": [
    "## 데이터프레임 합치기"
   ]
  },
  {
   "cell_type": "code",
   "execution_count": 21,
   "id": "0fa87c4e",
   "metadata": {},
   "outputs": [
    {
     "data": {
      "text/plain": [
       "array([ True,  True,  True,  True,  True,  True,  True,  True,  True])"
      ]
     },
     "execution_count": 21,
     "metadata": {},
     "output_type": "execute_result"
    }
   ],
   "source": [
    "df.columns == df2.columns"
   ]
  },
  {
   "cell_type": "code",
   "execution_count": 22,
   "id": "992c19be",
   "metadata": {},
   "outputs": [
    {
     "data": {
      "text/plain": [
       "109950743"
      ]
     },
     "execution_count": 22,
     "metadata": {},
     "output_type": "execute_result"
    }
   ],
   "source": [
    "len(df) + len(df2)"
   ]
  },
  {
   "cell_type": "code",
   "execution_count": 23,
   "id": "2945b516",
   "metadata": {},
   "outputs": [
    {
     "data": {
      "text/html": [
       "<div>\n",
       "<style scoped>\n",
       "    .dataframe tbody tr th:only-of-type {\n",
       "        vertical-align: middle;\n",
       "    }\n",
       "\n",
       "    .dataframe tbody tr th {\n",
       "        vertical-align: top;\n",
       "    }\n",
       "\n",
       "    .dataframe thead th {\n",
       "        text-align: right;\n",
       "    }\n",
       "</style>\n",
       "<table border=\"1\" class=\"dataframe\">\n",
       "  <thead>\n",
       "    <tr style=\"text-align: right;\">\n",
       "      <th></th>\n",
       "      <th>event_time</th>\n",
       "      <th>event_type</th>\n",
       "      <th>product_id</th>\n",
       "      <th>category_id</th>\n",
       "      <th>category_code</th>\n",
       "      <th>brand</th>\n",
       "      <th>price</th>\n",
       "      <th>user_id</th>\n",
       "      <th>user_session</th>\n",
       "    </tr>\n",
       "  </thead>\n",
       "  <tbody>\n",
       "    <tr>\n",
       "      <th>0</th>\n",
       "      <td>2019-10-01 00:00:00 UTC</td>\n",
       "      <td>view</td>\n",
       "      <td>44600062</td>\n",
       "      <td>2103807459595387724</td>\n",
       "      <td>NaN</td>\n",
       "      <td>shiseido</td>\n",
       "      <td>35.790001</td>\n",
       "      <td>541312140</td>\n",
       "      <td>72d76fde-8bb3-4e00-8c23-a032dfed738c</td>\n",
       "    </tr>\n",
       "    <tr>\n",
       "      <th>1</th>\n",
       "      <td>2019-10-01 00:00:00 UTC</td>\n",
       "      <td>view</td>\n",
       "      <td>3900821</td>\n",
       "      <td>2053013552326770905</td>\n",
       "      <td>appliances.environment.water_heater</td>\n",
       "      <td>aqua</td>\n",
       "      <td>33.200001</td>\n",
       "      <td>554748717</td>\n",
       "      <td>9333dfbd-b87a-4708-9857-6336556b0fcc</td>\n",
       "    </tr>\n",
       "    <tr>\n",
       "      <th>2</th>\n",
       "      <td>2019-10-01 00:00:01 UTC</td>\n",
       "      <td>view</td>\n",
       "      <td>17200506</td>\n",
       "      <td>2053013559792632471</td>\n",
       "      <td>furniture.living_room.sofa</td>\n",
       "      <td>NaN</td>\n",
       "      <td>543.099976</td>\n",
       "      <td>519107250</td>\n",
       "      <td>566511c2-e2e3-422b-b695-cf8e6e792ca8</td>\n",
       "    </tr>\n",
       "    <tr>\n",
       "      <th>3</th>\n",
       "      <td>2019-10-01 00:00:01 UTC</td>\n",
       "      <td>view</td>\n",
       "      <td>1307067</td>\n",
       "      <td>2053013558920217191</td>\n",
       "      <td>computers.notebook</td>\n",
       "      <td>lenovo</td>\n",
       "      <td>251.740005</td>\n",
       "      <td>550050854</td>\n",
       "      <td>7c90fc70-0e80-4590-96f3-13c02c18c713</td>\n",
       "    </tr>\n",
       "    <tr>\n",
       "      <th>4</th>\n",
       "      <td>2019-10-01 00:00:04 UTC</td>\n",
       "      <td>view</td>\n",
       "      <td>1004237</td>\n",
       "      <td>2053013555631882655</td>\n",
       "      <td>electronics.smartphone</td>\n",
       "      <td>apple</td>\n",
       "      <td>1081.979980</td>\n",
       "      <td>535871217</td>\n",
       "      <td>c6bd7419-2748-4c56-95b4-8cec9ff8b80d</td>\n",
       "    </tr>\n",
       "    <tr>\n",
       "      <th>...</th>\n",
       "      <td>...</td>\n",
       "      <td>...</td>\n",
       "      <td>...</td>\n",
       "      <td>...</td>\n",
       "      <td>...</td>\n",
       "      <td>...</td>\n",
       "      <td>...</td>\n",
       "      <td>...</td>\n",
       "      <td>...</td>\n",
       "    </tr>\n",
       "    <tr>\n",
       "      <th>109950738</th>\n",
       "      <td>2019-11-30 23:59:58 UTC</td>\n",
       "      <td>view</td>\n",
       "      <td>15700137</td>\n",
       "      <td>2053013559733912211</td>\n",
       "      <td>NaN</td>\n",
       "      <td>NaN</td>\n",
       "      <td>277.739990</td>\n",
       "      <td>532714000</td>\n",
       "      <td>02b4131c-0112-4231-aafa-ceaa08e77c1b</td>\n",
       "    </tr>\n",
       "    <tr>\n",
       "      <th>109950739</th>\n",
       "      <td>2019-11-30 23:59:58 UTC</td>\n",
       "      <td>view</td>\n",
       "      <td>28719425</td>\n",
       "      <td>2053013565639492569</td>\n",
       "      <td>apparel.shoes</td>\n",
       "      <td>baden</td>\n",
       "      <td>62.810001</td>\n",
       "      <td>545223467</td>\n",
       "      <td>734c5eef-0742-4f8b-9d22-48f75b0bc359</td>\n",
       "    </tr>\n",
       "    <tr>\n",
       "      <th>109950740</th>\n",
       "      <td>2019-11-30 23:59:59 UTC</td>\n",
       "      <td>view</td>\n",
       "      <td>1004833</td>\n",
       "      <td>2053013555631882655</td>\n",
       "      <td>electronics.smartphone</td>\n",
       "      <td>samsung</td>\n",
       "      <td>167.029999</td>\n",
       "      <td>557794415</td>\n",
       "      <td>6fecf566-ebb0-4e70-a243-cdc13ce044cb</td>\n",
       "    </tr>\n",
       "    <tr>\n",
       "      <th>109950741</th>\n",
       "      <td>2019-11-30 23:59:59 UTC</td>\n",
       "      <td>view</td>\n",
       "      <td>2701706</td>\n",
       "      <td>2053013563911439225</td>\n",
       "      <td>appliances.kitchen.refrigerators</td>\n",
       "      <td>samsung</td>\n",
       "      <td>566.270020</td>\n",
       "      <td>531607492</td>\n",
       "      <td>368ddc8b-5db9-40fb-b7ff-b6582a1192c0</td>\n",
       "    </tr>\n",
       "    <tr>\n",
       "      <th>109950742</th>\n",
       "      <td>2019-11-30 23:59:59 UTC</td>\n",
       "      <td>view</td>\n",
       "      <td>1004233</td>\n",
       "      <td>2053013555631882655</td>\n",
       "      <td>electronics.smartphone</td>\n",
       "      <td>apple</td>\n",
       "      <td>1312.520020</td>\n",
       "      <td>579969851</td>\n",
       "      <td>90aca71c-ed8a-4670-866a-761ebacb732d</td>\n",
       "    </tr>\n",
       "  </tbody>\n",
       "</table>\n",
       "<p>109950743 rows × 9 columns</p>\n",
       "</div>"
      ],
      "text/plain": [
       "                        event_time event_type  product_id  \\\n",
       "0          2019-10-01 00:00:00 UTC       view    44600062   \n",
       "1          2019-10-01 00:00:00 UTC       view     3900821   \n",
       "2          2019-10-01 00:00:01 UTC       view    17200506   \n",
       "3          2019-10-01 00:00:01 UTC       view     1307067   \n",
       "4          2019-10-01 00:00:04 UTC       view     1004237   \n",
       "...                            ...        ...         ...   \n",
       "109950738  2019-11-30 23:59:58 UTC       view    15700137   \n",
       "109950739  2019-11-30 23:59:58 UTC       view    28719425   \n",
       "109950740  2019-11-30 23:59:59 UTC       view     1004833   \n",
       "109950741  2019-11-30 23:59:59 UTC       view     2701706   \n",
       "109950742  2019-11-30 23:59:59 UTC       view     1004233   \n",
       "\n",
       "                   category_id                        category_code     brand  \\\n",
       "0          2103807459595387724                                  NaN  shiseido   \n",
       "1          2053013552326770905  appliances.environment.water_heater      aqua   \n",
       "2          2053013559792632471           furniture.living_room.sofa       NaN   \n",
       "3          2053013558920217191                   computers.notebook    lenovo   \n",
       "4          2053013555631882655               electronics.smartphone     apple   \n",
       "...                        ...                                  ...       ...   \n",
       "109950738  2053013559733912211                                  NaN       NaN   \n",
       "109950739  2053013565639492569                        apparel.shoes     baden   \n",
       "109950740  2053013555631882655               electronics.smartphone   samsung   \n",
       "109950741  2053013563911439225     appliances.kitchen.refrigerators   samsung   \n",
       "109950742  2053013555631882655               electronics.smartphone     apple   \n",
       "\n",
       "                 price    user_id                          user_session  \n",
       "0            35.790001  541312140  72d76fde-8bb3-4e00-8c23-a032dfed738c  \n",
       "1            33.200001  554748717  9333dfbd-b87a-4708-9857-6336556b0fcc  \n",
       "2           543.099976  519107250  566511c2-e2e3-422b-b695-cf8e6e792ca8  \n",
       "3           251.740005  550050854  7c90fc70-0e80-4590-96f3-13c02c18c713  \n",
       "4          1081.979980  535871217  c6bd7419-2748-4c56-95b4-8cec9ff8b80d  \n",
       "...                ...        ...                                   ...  \n",
       "109950738   277.739990  532714000  02b4131c-0112-4231-aafa-ceaa08e77c1b  \n",
       "109950739    62.810001  545223467  734c5eef-0742-4f8b-9d22-48f75b0bc359  \n",
       "109950740   167.029999  557794415  6fecf566-ebb0-4e70-a243-cdc13ce044cb  \n",
       "109950741   566.270020  531607492  368ddc8b-5db9-40fb-b7ff-b6582a1192c0  \n",
       "109950742  1312.520020  579969851  90aca71c-ed8a-4670-866a-761ebacb732d  \n",
       "\n",
       "[109950743 rows x 9 columns]"
      ]
     },
     "execution_count": 23,
     "metadata": {},
     "output_type": "execute_result"
    }
   ],
   "source": [
    "df_all = pd.concat([df, df2], ignore_index=True)\n",
    "df_all"
   ]
  },
  {
   "cell_type": "code",
   "execution_count": 24,
   "id": "4eee5795",
   "metadata": {},
   "outputs": [
    {
     "name": "stdout",
     "output_type": "stream",
     "text": [
      "<class 'pandas.core.frame.DataFrame'>\n",
      "RangeIndex: 109950743 entries, 0 to 109950742\n",
      "Data columns (total 9 columns):\n",
      " #   Column         Non-Null Count      Dtype   \n",
      "---  ------         --------------      -----   \n",
      " 0   event_time     109950743 non-null  object  \n",
      " 1   event_type     109950743 non-null  category\n",
      " 2   product_id     109950743 non-null  uint32  \n",
      " 3   category_id    109950743 non-null  uint64  \n",
      " 4   category_code  74536963 non-null   object  \n",
      " 5   brand          94609585 non-null   object  \n",
      " 6   price          109950743 non-null  float32 \n",
      " 7   user_id        109950743 non-null  uint32  \n",
      " 8   user_session   109950731 non-null  object  \n",
      "dtypes: category(1), float32(1), object(4), uint32(2), uint64(1)\n",
      "memory usage: 5.4+ GB\n"
     ]
    }
   ],
   "source": [
    "df_all.info(show_counts=True)"
   ]
  },
  {
   "attachments": {},
   "cell_type": "markdown",
   "id": "125d0464",
   "metadata": {},
   "source": [
    "## 데이터프레임 parquet로 저장하고 가져오기"
   ]
  },
  {
   "cell_type": "code",
   "execution_count": 25,
   "id": "d809fb29",
   "metadata": {},
   "outputs": [],
   "source": [
    "file_path_parquet = 'data/2019-Oct-Nov.parquet.gzip'\n",
    "# file_path_csv = 'data/2019-Oct-Nov.csv'"
   ]
  },
  {
   "cell_type": "code",
   "execution_count": 26,
   "id": "9a21c28f",
   "metadata": {},
   "outputs": [
    {
     "name": "stdout",
     "output_type": "stream",
     "text": [
      "걸린 시간 :  251.28104281425476 sec\n"
     ]
    }
   ],
   "source": [
    "# 저장하기\n",
    "start = time.time()\n",
    "df_all.to_parquet(file_path_parquet, compression='gzip')\n",
    "end = time.time()\n",
    "\n",
    "print('걸린 시간 : ', (end - start), 'sec')"
   ]
  },
  {
   "cell_type": "code",
   "execution_count": 27,
   "id": "4b6cb6bd",
   "metadata": {},
   "outputs": [
    {
     "name": "stdout",
     "output_type": "stream",
     "text": [
      "<class 'pandas.core.frame.DataFrame'>\n",
      "RangeIndex: 109950743 entries, 0 to 109950742\n",
      "Data columns (total 9 columns):\n",
      " #   Column         Dtype   \n",
      "---  ------         -----   \n",
      " 0   event_time     object  \n",
      " 1   event_type     category\n",
      " 2   product_id     uint32  \n",
      " 3   category_id    uint64  \n",
      " 4   category_code  object  \n",
      " 5   brand          object  \n",
      " 6   price          float32 \n",
      " 7   user_id        uint32  \n",
      " 8   user_session   object  \n",
      "dtypes: category(1), float32(1), object(4), uint32(2), uint64(1)\n",
      "memory usage: 5.4+ GB\n",
      "걸린 시간 :  41.06379795074463 sec\n"
     ]
    }
   ],
   "source": [
    "# 가져오기\n",
    "start = time.time()\n",
    "df_final = pd.read_parquet(file_path_parquet)\n",
    "df_final.info()\n",
    "end = time.time()\n",
    "\n",
    "print('걸린 시간 : ', (end - start), 'sec')"
   ]
  },
  {
   "attachments": {},
   "cell_type": "markdown",
   "id": "0db139e0",
   "metadata": {},
   "source": [
    "## 데이터프레임 행 기준 8등분 저장하기"
   ]
  },
  {
   "cell_type": "code",
   "execution_count": 31,
   "id": "77905b20",
   "metadata": {},
   "outputs": [],
   "source": [
    "df_list = np.array_split(df_all, 8)\n",
    "for n, sub_df in enumerate(df_list):\n",
    "    sub_df.to_parquet(f\"data/sub-df-{n}.parquet.gzip\", compression='gzip')\n",
    "end = time.time()"
   ]
  },
  {
   "cell_type": "code",
   "execution_count": 32,
   "id": "16868d3d",
   "metadata": {},
   "outputs": [
    {
     "data": {
      "text/html": [
       "<div>\n",
       "<style scoped>\n",
       "    .dataframe tbody tr th:only-of-type {\n",
       "        vertical-align: middle;\n",
       "    }\n",
       "\n",
       "    .dataframe tbody tr th {\n",
       "        vertical-align: top;\n",
       "    }\n",
       "\n",
       "    .dataframe thead th {\n",
       "        text-align: right;\n",
       "    }\n",
       "</style>\n",
       "<table border=\"1\" class=\"dataframe\">\n",
       "  <thead>\n",
       "    <tr style=\"text-align: right;\">\n",
       "      <th></th>\n",
       "      <th>event_time</th>\n",
       "      <th>event_type</th>\n",
       "      <th>product_id</th>\n",
       "      <th>category_id</th>\n",
       "      <th>category_code</th>\n",
       "      <th>brand</th>\n",
       "      <th>price</th>\n",
       "      <th>user_id</th>\n",
       "      <th>user_session</th>\n",
       "    </tr>\n",
       "  </thead>\n",
       "  <tbody>\n",
       "    <tr>\n",
       "      <th>13743843</th>\n",
       "      <td>2019-10-11 13:50:07 UTC</td>\n",
       "      <td>view</td>\n",
       "      <td>12300305</td>\n",
       "      <td>2053013556311359947</td>\n",
       "      <td>construction.tools.drill</td>\n",
       "      <td>alteco</td>\n",
       "      <td>25.740000</td>\n",
       "      <td>548813932</td>\n",
       "      <td>4587b3ba-c9e0-41c2-9d5f-4c02b531e797</td>\n",
       "    </tr>\n",
       "    <tr>\n",
       "      <th>13743844</th>\n",
       "      <td>2019-10-11 13:50:07 UTC</td>\n",
       "      <td>view</td>\n",
       "      <td>28713027</td>\n",
       "      <td>2053013565639492569</td>\n",
       "      <td>apparel.shoes</td>\n",
       "      <td>baden</td>\n",
       "      <td>82.629997</td>\n",
       "      <td>559177601</td>\n",
       "      <td>4439348f-1166-4e68-aa15-736701b66512</td>\n",
       "    </tr>\n",
       "    <tr>\n",
       "      <th>13743845</th>\n",
       "      <td>2019-10-11 13:50:07 UTC</td>\n",
       "      <td>view</td>\n",
       "      <td>1004449</td>\n",
       "      <td>2053013555631882655</td>\n",
       "      <td>electronics.smartphone</td>\n",
       "      <td>xiaomi</td>\n",
       "      <td>200.750000</td>\n",
       "      <td>534264516</td>\n",
       "      <td>23b8c556-9a29-48e0-8452-c89bda432d25</td>\n",
       "    </tr>\n",
       "    <tr>\n",
       "      <th>13743846</th>\n",
       "      <td>2019-10-11 13:50:07 UTC</td>\n",
       "      <td>view</td>\n",
       "      <td>1004781</td>\n",
       "      <td>2053013555631882655</td>\n",
       "      <td>electronics.smartphone</td>\n",
       "      <td>huawei</td>\n",
       "      <td>271.549988</td>\n",
       "      <td>531547397</td>\n",
       "      <td>1ffe9738-169e-4c6d-a97b-3566a78114a4</td>\n",
       "    </tr>\n",
       "    <tr>\n",
       "      <th>13743847</th>\n",
       "      <td>2019-10-11 13:50:07 UTC</td>\n",
       "      <td>view</td>\n",
       "      <td>1005106</td>\n",
       "      <td>2053013555631882655</td>\n",
       "      <td>electronics.smartphone</td>\n",
       "      <td>apple</td>\n",
       "      <td>1541.839966</td>\n",
       "      <td>545696941</td>\n",
       "      <td>2ac4623b-7344-43a5-868e-9591e6fbf0e9</td>\n",
       "    </tr>\n",
       "    <tr>\n",
       "      <th>...</th>\n",
       "      <td>...</td>\n",
       "      <td>...</td>\n",
       "      <td>...</td>\n",
       "      <td>...</td>\n",
       "      <td>...</td>\n",
       "      <td>...</td>\n",
       "      <td>...</td>\n",
       "      <td>...</td>\n",
       "      <td>...</td>\n",
       "    </tr>\n",
       "    <tr>\n",
       "      <th>27487681</th>\n",
       "      <td>2019-10-20 16:33:43 UTC</td>\n",
       "      <td>view</td>\n",
       "      <td>3200353</td>\n",
       "      <td>2053013555321504139</td>\n",
       "      <td>appliances.kitchen.meat_grinder</td>\n",
       "      <td>vitek</td>\n",
       "      <td>66.849998</td>\n",
       "      <td>545462098</td>\n",
       "      <td>f00f06f0-14d1-49d6-9adc-64bf35f14595</td>\n",
       "    </tr>\n",
       "    <tr>\n",
       "      <th>27487682</th>\n",
       "      <td>2019-10-20 16:33:43 UTC</td>\n",
       "      <td>view</td>\n",
       "      <td>1004777</td>\n",
       "      <td>2053013555631882655</td>\n",
       "      <td>electronics.smartphone</td>\n",
       "      <td>xiaomi</td>\n",
       "      <td>135.009995</td>\n",
       "      <td>513451411</td>\n",
       "      <td>5ebfddd1-4162-49a4-9cb8-bce3a3b4edae</td>\n",
       "    </tr>\n",
       "    <tr>\n",
       "      <th>27487683</th>\n",
       "      <td>2019-10-20 16:33:43 UTC</td>\n",
       "      <td>view</td>\n",
       "      <td>2501672</td>\n",
       "      <td>2053013564003713919</td>\n",
       "      <td>appliances.kitchen.oven</td>\n",
       "      <td>bbk</td>\n",
       "      <td>85.690002</td>\n",
       "      <td>514098484</td>\n",
       "      <td>566b121b-96c4-4cc9-ba90-36cf9cf19d4e</td>\n",
       "    </tr>\n",
       "    <tr>\n",
       "      <th>27487684</th>\n",
       "      <td>2019-10-20 16:33:43 UTC</td>\n",
       "      <td>view</td>\n",
       "      <td>1201513</td>\n",
       "      <td>2172371436436455782</td>\n",
       "      <td>electronics.tablet</td>\n",
       "      <td>samsung</td>\n",
       "      <td>823.419983</td>\n",
       "      <td>514766113</td>\n",
       "      <td>db1e5b6f-9f9a-4928-8878-5e8141b33552</td>\n",
       "    </tr>\n",
       "    <tr>\n",
       "      <th>27487685</th>\n",
       "      <td>2019-10-20 16:33:43 UTC</td>\n",
       "      <td>view</td>\n",
       "      <td>1004249</td>\n",
       "      <td>2053013555631882655</td>\n",
       "      <td>electronics.smartphone</td>\n",
       "      <td>apple</td>\n",
       "      <td>746.090027</td>\n",
       "      <td>526775037</td>\n",
       "      <td>03db6124-3164-4bf1-8a83-b08f07e8063f</td>\n",
       "    </tr>\n",
       "  </tbody>\n",
       "</table>\n",
       "<p>13743843 rows × 9 columns</p>\n",
       "</div>"
      ],
      "text/plain": [
       "                       event_time event_type  product_id          category_id  \\\n",
       "13743843  2019-10-11 13:50:07 UTC       view    12300305  2053013556311359947   \n",
       "13743844  2019-10-11 13:50:07 UTC       view    28713027  2053013565639492569   \n",
       "13743845  2019-10-11 13:50:07 UTC       view     1004449  2053013555631882655   \n",
       "13743846  2019-10-11 13:50:07 UTC       view     1004781  2053013555631882655   \n",
       "13743847  2019-10-11 13:50:07 UTC       view     1005106  2053013555631882655   \n",
       "...                           ...        ...         ...                  ...   \n",
       "27487681  2019-10-20 16:33:43 UTC       view     3200353  2053013555321504139   \n",
       "27487682  2019-10-20 16:33:43 UTC       view     1004777  2053013555631882655   \n",
       "27487683  2019-10-20 16:33:43 UTC       view     2501672  2053013564003713919   \n",
       "27487684  2019-10-20 16:33:43 UTC       view     1201513  2172371436436455782   \n",
       "27487685  2019-10-20 16:33:43 UTC       view     1004249  2053013555631882655   \n",
       "\n",
       "                            category_code    brand        price    user_id  \\\n",
       "13743843         construction.tools.drill   alteco    25.740000  548813932   \n",
       "13743844                    apparel.shoes    baden    82.629997  559177601   \n",
       "13743845           electronics.smartphone   xiaomi   200.750000  534264516   \n",
       "13743846           electronics.smartphone   huawei   271.549988  531547397   \n",
       "13743847           electronics.smartphone    apple  1541.839966  545696941   \n",
       "...                                   ...      ...          ...        ...   \n",
       "27487681  appliances.kitchen.meat_grinder    vitek    66.849998  545462098   \n",
       "27487682           electronics.smartphone   xiaomi   135.009995  513451411   \n",
       "27487683          appliances.kitchen.oven      bbk    85.690002  514098484   \n",
       "27487684               electronics.tablet  samsung   823.419983  514766113   \n",
       "27487685           electronics.smartphone    apple   746.090027  526775037   \n",
       "\n",
       "                                  user_session  \n",
       "13743843  4587b3ba-c9e0-41c2-9d5f-4c02b531e797  \n",
       "13743844  4439348f-1166-4e68-aa15-736701b66512  \n",
       "13743845  23b8c556-9a29-48e0-8452-c89bda432d25  \n",
       "13743846  1ffe9738-169e-4c6d-a97b-3566a78114a4  \n",
       "13743847  2ac4623b-7344-43a5-868e-9591e6fbf0e9  \n",
       "...                                        ...  \n",
       "27487681  f00f06f0-14d1-49d6-9adc-64bf35f14595  \n",
       "27487682  5ebfddd1-4162-49a4-9cb8-bce3a3b4edae  \n",
       "27487683  566b121b-96c4-4cc9-ba90-36cf9cf19d4e  \n",
       "27487684  db1e5b6f-9f9a-4928-8878-5e8141b33552  \n",
       "27487685  03db6124-3164-4bf1-8a83-b08f07e8063f  \n",
       "\n",
       "[13743843 rows x 9 columns]"
      ]
     },
     "execution_count": 32,
     "metadata": {},
     "output_type": "execute_result"
    }
   ],
   "source": [
    "# 가져와서 확인해보기\n",
    "pd.read_parquet('data/sub-df-1.parquet.gzip')"
   ]
  }
 ],
 "metadata": {
  "kernelspec": {
   "display_name": "Python 3 (ipykernel)",
   "language": "python",
   "name": "python3"
  },
  "language_info": {
   "codemirror_mode": {
    "name": "ipython",
    "version": 3
   },
   "file_extension": ".py",
   "mimetype": "text/x-python",
   "name": "python",
   "nbconvert_exporter": "python",
   "pygments_lexer": "ipython3",
   "version": "3.11.3"
  },
  "toc": {
   "base_numbering": 1,
   "nav_menu": {},
   "number_sections": true,
   "sideBar": true,
   "skip_h1_title": false,
   "title_cell": "Table of Contents",
   "title_sidebar": "Contents",
   "toc_cell": false,
   "toc_position": {},
   "toc_section_display": true,
   "toc_window_display": false
  },
  "varInspector": {
   "cols": {
    "lenName": 16,
    "lenType": 16,
    "lenVar": 40
   },
   "kernels_config": {
    "python": {
     "delete_cmd_postfix": "",
     "delete_cmd_prefix": "del ",
     "library": "var_list.py",
     "varRefreshCmd": "print(var_dic_list())"
    },
    "r": {
     "delete_cmd_postfix": ") ",
     "delete_cmd_prefix": "rm(",
     "library": "var_list.r",
     "varRefreshCmd": "cat(var_dic_list()) "
    }
   },
   "types_to_exclude": [
    "module",
    "function",
    "builtin_function_or_method",
    "instance",
    "_Feature"
   ],
   "window_display": false
  }
 },
 "nbformat": 4,
 "nbformat_minor": 5
}
